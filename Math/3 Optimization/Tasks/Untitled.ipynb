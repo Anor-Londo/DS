{
 "cells": [
  {
   "cell_type": "code",
   "execution_count": 23,
   "metadata": {},
   "outputs": [],
   "source": [
    "import math\n",
    "import numpy as np\n",
    "from matplotlib import pyplot as plt\n",
    "from scipy import optimize as opt"
   ]
  },
  {
   "cell_type": "code",
   "execution_count": 13,
   "metadata": {},
   "outputs": [],
   "source": [
    " def func(x):\n",
    "        return np.sin(x / 5) * np.exp(x / 10) + 5 * np.exp(-x / 2)"
   ]
  },
  {
   "cell_type": "code",
   "execution_count": 20,
   "metadata": {},
   "outputs": [
    {
     "data": {
      "text/plain": [
       "      fun: -11.898894665981285\n",
       " hess_inv: array([[1.67932484]])\n",
       "      jac: array([2.38418579e-07])\n",
       "  message: 'Optimization terminated successfully.'\n",
       "     nfev: 14\n",
       "      nit: 6\n",
       "     njev: 7\n",
       "   status: 0\n",
       "  success: True\n",
       "        x: array([25.88019339])"
      ]
     },
     "execution_count": 20,
     "metadata": {},
     "output_type": "execute_result"
    }
   ],
   "source": [
    "opt.minimize(func, 30)"
   ]
  },
  {
   "cell_type": "code",
   "execution_count": 83,
   "metadata": {},
   "outputs": [],
   "source": [
    "def test_funk(x):\n",
    "    y = x**2\n",
    "    print(f'y = {y}\\t x = {x}')\n",
    "    return (x)**2"
   ]
  },
  {
   "cell_type": "code",
   "execution_count": 86,
   "metadata": {},
   "outputs": [
    {
     "name": "stdout",
     "output_type": "stream",
     "text": [
      "y = [9.]\t x = [3.]\n",
      "y = [9.00000009]\t x = [3.00000001]\n",
      "y = [3.9601]\t x = [1.99]\n",
      "y = [3.96010006]\t x = [1.99000001]\n",
      "y = [2.53889643e-16]\t x = [1.59339149e-08]\n",
      "y = [9.50801915e-16]\t x = [3.0835076e-08]\n",
      "Optimization terminated successfully.\n",
      "         Current function value: 0.000000\n",
      "         Iterations: 2\n",
      "         Function evaluations: 6\n",
      "         Gradient evaluations: 3\n",
      "      fun: 2.5388964258140254e-16\n",
      " hess_inv: array([[0.5]])\n",
      "      jac: array([4.67689909e-08])\n",
      "  message: 'Optimization terminated successfully.'\n",
      "     nfev: 6\n",
      "      nit: 2\n",
      "     njev: 3\n",
      "   status: 0\n",
      "  success: True\n",
      "        x: array([1.59339149e-08])\n",
      "min_x = [1.59339149e-08], min y = 2.5388964258140254e-16\n",
      "y = [25 16  9  4  1  0  1  4  9 16]\t x = [-5 -4 -3 -2 -1  0  1  2  3  4]\n"
     ]
    },
    {
     "data": {
      "image/png": "[encoded data removed]",
      "text/plain": [
       "<Figure size 432x288 with 1 Axes>"
      ]
     },
     "metadata": {
      "needs_background": "light"
     },
     "output_type": "display_data"
    }
   ],
   "source": [
    "x = np.arange(-5, 5)\n",
    "min_res = opt.minimize(test_funk, 3, options={'disp': True})\n",
    "print(min_res)\n",
    "print(f'min_x = {min_res.x}, min y = {min_res.fun}')\n",
    "plt.plot(x, test_funk(x))\n",
    "plt.annotate('min', (min_res.x, min_res.fun))\n",
    "plt.show()"
   ]
  }
 ],
 "metadata": {
  "kernelspec": {
   "display_name": "Python 3",
   "language": "python",
   "name": "python3"
  },
  "language_info": {
   "codemirror_mode": {
    "name": "ipython",
    "version": 3
   },
   "file_extension": ".py",
   "mimetype": "text/x-python",
   "name": "python",
   "nbconvert_exporter": "python",
   "pygments_lexer": "ipython3",
   "version": "3.8.3"
  }
 },
 "nbformat": 4,
 "nbformat_minor": 4
}
